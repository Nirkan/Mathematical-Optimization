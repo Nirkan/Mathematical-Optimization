{
 "cells": [
  {
   "cell_type": "markdown",
   "metadata": {},
   "source": [
    "## Assignment with team of workers"
   ]
  },
  {
   "cell_type": "code",
   "execution_count": 4,
   "metadata": {},
   "outputs": [
    {
     "name": "stdout",
     "output_type": "stream",
     "text": [
      "Total cost =  250.0\n",
      "\n",
      "Worker 0 assigned to task 2. Cost = 75\n",
      "Worker 1 assigned to task 0. Cost = 35\n",
      "Worker 4 assigned to task 3. Cost = 75\n",
      "Worker 5 assigned to task 1. Cost = 65\n",
      "\n",
      "Time =  9  milliseconds\n"
     ]
    }
   ],
   "source": [
    "from __future__ import print_function\n",
    "from ortools.linear_solver import pywraplp\n",
    "\n",
    "def main():\n",
    "    solver = pywraplp.Solver('SolveAssignmentProblemMIP',\n",
    "                            pywraplp.Solver.CBC_MIXED_INTEGER_PROGRAMMING)\n",
    "    cost = [\n",
    "        [90, 76, 75, 70],\n",
    "        [35, 85, 55, 65],\n",
    "        [125, 95, 90, 105],\n",
    "        [45, 110, 95, 115],\n",
    "        [60, 105, 80, 75],\n",
    "        [45, 65, 110, 95]\n",
    "    ]\n",
    "    \n",
    "    team1 = [0, 2, 4]\n",
    "    team2 = [1, 3, 5]\n",
    "    team_max = 2\n",
    "    \n",
    "    num_workers = len(cost)\n",
    "    num_tasks = len(cost[1])\n",
    "    x = {}\n",
    "    \n",
    "    for i in range(num_workers):\n",
    "        for j in range(num_tasks):\n",
    "            x[i, j] = solver.BoolVar('x[%i, %i]' % (i, j))\n",
    "            \n",
    "    # Objective \n",
    "    solver.Minimize(solver.Sum([cost[i][j] * x[i, j] for i in range(num_workers)\n",
    "                                                     for j in range(num_tasks)]))\n",
    "    \n",
    "    # Constraints\n",
    "    \n",
    "    # Each worker is assigned to at most 1 task.\n",
    "    \n",
    "    for i in range(num_workers):\n",
    "        solver.Add(solver.Sum([x[i, j] for j in range(num_tasks)]) <= 1)\n",
    "        \n",
    "    # Each task is assigned to exactly one worker.\n",
    "    \n",
    "    for j in range(num_tasks):\n",
    "        solver.Add(solver.Sum([x[i, j] for i in range(num_workers)]) == 1)\n",
    "        \n",
    "    # Each team takes on two tasks.\n",
    "    \n",
    "    solver.Add(solver.Sum([x[i, j] for i in team1 for j in range(num_tasks)]) <= team_max)\n",
    "    solver.Add(solver.Sum([x[i, j] for i in team2 for j in range(num_tasks)]) <= team_max)\n",
    "    sol = solver.Solve()\n",
    "    \n",
    "    print('Total cost = ', solver.Objective().Value())\n",
    "    print()\n",
    "    for i in range(num_workers):\n",
    "        for j in range(num_tasks):\n",
    "            if x[i, j].solution_value() > 0:\n",
    "                print('Worker %d assigned to task %d. Cost = %d' % (\n",
    "                i, \n",
    "                j, \n",
    "                cost[i][j]))\n",
    "                \n",
    "    print()\n",
    "    print(\"Time = \", solver.WallTime(), \" milliseconds\")\n",
    "\n",
    "\n",
    "if __name__ == '__main__':\n",
    "    main()\n",
    "    "
   ]
  }
 ],
 "metadata": {
  "kernelspec": {
   "display_name": "Python 3",
   "language": "python",
   "name": "python3"
  },
  "language_info": {
   "codemirror_mode": {
    "name": "ipython",
    "version": 3
   },
   "file_extension": ".py",
   "mimetype": "text/x-python",
   "name": "python",
   "nbconvert_exporter": "python",
   "pygments_lexer": "ipython3",
   "version": "3.8.3"
  }
 },
 "nbformat": 4,
 "nbformat_minor": 4
}
