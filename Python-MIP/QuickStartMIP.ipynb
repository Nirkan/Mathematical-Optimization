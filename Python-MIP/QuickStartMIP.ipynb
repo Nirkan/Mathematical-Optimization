{
 "cells": [
  {
   "cell_type": "code",
   "execution_count": 1,
   "metadata": {},
   "outputs": [],
   "source": [
    "from mip import *"
   ]
  },
  {
   "cell_type": "markdown",
   "metadata": {},
   "source": [
    "### Creating Models"
   ]
  },
  {
   "cell_type": "code",
   "execution_count": 2,
   "metadata": {},
   "outputs": [],
   "source": [
    "m = Model()"
   ]
  },
  {
   "cell_type": "code",
   "execution_count": 5,
   "metadata": {},
   "outputs": [],
   "source": [
    "m = Model(sense= MAXIMIZE, solver_name = CBC)   "
   ]
  },
  {
   "cell_type": "markdown",
   "metadata": {},
   "source": [
    "### Add Variables"
   ]
  },
  {
   "cell_type": "code",
   "execution_count": 6,
   "metadata": {},
   "outputs": [],
   "source": [
    "x = m.add_var()"
   ]
  },
  {
   "cell_type": "code",
   "execution_count": 7,
   "metadata": {},
   "outputs": [],
   "source": [
    "n = 10\n",
    "y = [ m.add_var(var_type = BINARY) for i in range(n) ]"
   ]
  },
  {
   "cell_type": "code",
   "execution_count": 11,
   "metadata": {},
   "outputs": [],
   "source": [
    "z = m.add_var(name = 'zCost', var_type = INTEGER, lb = -10, ub = 10)"
   ]
  },
  {
   "cell_type": "code",
   "execution_count": 13,
   "metadata": {},
   "outputs": [],
   "source": [
    "vz = m.var_by_name('zCost')\n",
    "vz.ub = 5"
   ]
  },
  {
   "cell_type": "markdown",
   "metadata": {},
   "source": [
    "### Constraints"
   ]
  },
  {
   "cell_type": "raw",
   "metadata": {},
   "source": [
    "m += x + y <= 10"
   ]
  },
  {
   "cell_type": "raw",
   "metadata": {},
   "source": [
    "m += xsum(w[i]*x[i] for i in range(n))  <= c"
   ]
  },
  {
   "cell_type": "raw",
   "metadata": {},
   "source": [
    "m +- xsum(w[i]*x[i] for i in range(n) if i%2 == 0) <= c"
   ]
  },
  {
   "cell_type": "raw",
   "metadata": {},
   "source": [
    "m += xsum(w[i]*x[i] for i in range(n) if i%2 == 0) <- c, 'even_sum'"
   ]
  },
  {
   "cell_type": "raw",
   "metadata": {},
   "source": [
    "constraint = m.constr_by_name('even_sum')"
   ]
  },
  {
   "cell_type": "markdown",
   "metadata": {},
   "source": [
    "### Objective Function"
   ]
  },
  {
   "cell_type": "raw",
   "metadata": {},
   "source": [
    "m.objective = xsum(c[i]*x[i] for i in range(n))"
   ]
  },
  {
   "cell_type": "raw",
   "metadata": {},
   "source": [
    "m.objective = minimize(xsum(c[i]*x[i] for i in range(n)))"
   ]
  },
  {
   "cell_type": "raw",
   "metadata": {},
   "source": [
    "m.objective = maximize(xsum(c[i]*x[i] for i in range(n)))"
   ]
  },
  {
   "cell_type": "markdown",
   "metadata": {},
   "source": [
    "### Saving, Loading and Checking Model properties"
   ]
  },
  {
   "cell_type": "raw",
   "metadata": {},
   "source": [
    "m.write('model.lp')"
   ]
  },
  {
   "cell_type": "raw",
   "metadata": {},
   "source": [
    "m.read('model.lp')\n",
    "print('model has {} vars, {} constraints and {} nzs'.format(m.num_cols, m.num_rows, m.num_nz))"
   ]
  },
  {
   "cell_type": "markdown",
   "metadata": {},
   "source": [
    "### Optimizing and Querying Optimization Results"
   ]
  },
  {
   "cell_type": "code",
   "execution_count": 22,
   "metadata": {},
   "outputs": [
    {
     "name": "stdout",
     "output_type": "stream",
     "text": [
      "optimal solution cost 0.0 found\n",
      "solution:\n",
      "zCost : -10.0\n"
     ]
    }
   ],
   "source": [
    "m.max_gap = 0.05\n",
    "status = m.optimize(max_seconds = 300)\n",
    "if status == OptimizationStatus.OPTIMAL:\n",
    "    print('optimal solution cost {} found'.format(m.objective_value))\n",
    "elif status == OptimizationStatus.FEASIBLE:\n",
    "    print('sol.cost {} found, best possible: {}'.format(m.objective_bound))\n",
    "elif status == OptimizationStatus.NO_SOLUTION_FOUND:\n",
    "    print('no feasible solution found, lower bound is: {}'.format(m.objective_bound))\n",
    "if status == OptimizationStatus.OPTIMAL or status == OptimizationStatus.FEASIBLE:\n",
    "    print('solution:')\n",
    "    for v in m.vars:\n",
    "        if abs(v.x) > 1e-6:  # only printing no-zeros\n",
    "            print('{} : {}'.format(v.name, v.x))"
   ]
  },
  {
   "cell_type": "raw",
   "metadata": {},
   "source": [
    "for k in range(model.num_solutions):\n",
    "    print('route {} with length {}'.format(k, model.objective_values[k]))\n",
    "    for (i, j) in product(range(n), range(n)):\n",
    "        if x[i][j].xi(k) >= 0.98:\n",
    "            print('\\tarc ({},{})'.format(i, j))"
   ]
  }
 ],
 "metadata": {
  "kernelspec": {
   "display_name": "Python 3",
   "language": "python",
   "name": "python3"
  },
  "language_info": {
   "codemirror_mode": {
    "name": "ipython",
    "version": 3
   },
   "file_extension": ".py",
   "mimetype": "text/x-python",
   "name": "python",
   "nbconvert_exporter": "python",
   "pygments_lexer": "ipython3",
   "version": "3.8.3"
  }
 },
 "nbformat": 4,
 "nbformat_minor": 4
}
