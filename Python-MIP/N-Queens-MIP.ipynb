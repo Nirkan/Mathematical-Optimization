{
 "cells": [
  {
   "cell_type": "code",
   "execution_count": 2,
   "metadata": {},
   "outputs": [
    {
     "name": "stdout",
     "output_type": "stream",
     "text": [
      "\n",
      ". . . O. . . . . . . . . . . . . . . . . . . . . . . . . . . . . . . . . . . . \n",
      ". . . . . . . . . . . . . . . . . . . . . . . . . . . . . . . . . . O. . . . . \n",
      ". . . . . . . . . . . . . . . . . . . . . . . . . . . . . . . . . . . . . . O. \n",
      ". . . . . . . . . . . . . . . . . . . . . . . . . . . . . . O. . . . . . . . . \n",
      ". . . . . . . . . . . . . . O. . . . . . . . . . . . . . . . . . . . . . . . . \n",
      ". . . . . . . . . . . . . . . . . . . . . . . . . . . . . . . . . . . . . . . O\n",
      ". . . . . . . . . . . . . . . O. . . . . . . . . . . . . . . . . . . . . . . . \n",
      ". . . . . . . . . . . . . . . . . . . . . . . . . . . . . . . . . O. . . . . . \n",
      ". . . . . . . . . . . . . . . . . . . . . . . . . . . O. . . . . . . . . . . . \n",
      ". . . . . . . . . . . . . . . . . . . . . O. . . . . . . . . . . . . . . . . . \n",
      ". . . . . . . . . . . . . . . . . O. . . . . . . . . . . . . . . . . . . . . . \n",
      ". . . O. . . . . . . . . . . . . . . . . . . . . . . . . . . . . . . . . . . . \n",
      ". . . . . . . . . . . . . . . . . . . . . . . . . . . . . . . . . . . . . O. . \n",
      ". . . . . . . . . . . . . . . O. . . . . . . . . . . . . . . . . . . . . . . . \n",
      ". . . . . . . . . . . . . . . . . . . . . . . . . . . . . . . . . . . . O. . . \n",
      ". . . . . . . . . . . . . . . . . . . . . . . . . . . . . . . . . . . . . . O. \n",
      ". . . . . . . . . O. . . . . . . . . . . . . . . . . . . . . . . . . . . . . . \n",
      ". . . . . . . . . . . . . . . . . . . . . . . . . . . . . . . . . . O. . . . . \n",
      ". O. . . . . . . . . . . . . . . . . . . . . . . . . . . . . . . . . . . . . . \n",
      ". . . . . . . . . . . . . . . . O. . . . . . . . . . . . . . . . . . . . . . . \n",
      ". . . . . . . . . . . . . . . . . . . . . . . . . O. . . . . . . . . . . . . . \n",
      ". . . . . . O. . . . . . . . . . . . . . . . . . . . . . . . . . . . . . . . . \n",
      ". . . . . . . . . . . . . . . . . . . . . . . . . . . . . . . . . . . . . . O. \n",
      ". . . . . . . . . . . . . . . . . . . . . . . . . . . . . . . . . . O. . . . . \n",
      ". . . . . . . . . . . . . . . . . . . . . . . . . . . . . . . . . . . . . O. . \n",
      ". . . . . . O. . . . . . . . . . . . . . . . . . . . . . . . . . . . . . . . . \n",
      ". . . . . . . . . . . . . . . . . . . . . . . . . . . . . . O. . . . . . . . . \n",
      ". . . . . . . O. . . . . . . . . . . . . . . . . . . . . . . . . . . . . . . . \n",
      ". O. . . . . . . . . . . . . . . . . . . . . . . . . . . . . . . . . . . . . . \n",
      ". . . . . . . . . . . . . . . . . . . . . . . O. . . . . . . . . . . . . . . . \n",
      ". . . . . . . . . . . . . . . . . . . . . . . . . . . . O. . . . . . . . . . . \n",
      "O. . . . . . . . . . . . . . . . . . . . . . . . . . . . . . . . . . . . . . . \n",
      ". . . . . . . . . . . . . . O. . . . . . . . . . . . . . . . . . . . . . . . . \n",
      ". . . . . . . O. . . . . . . . . . . . . . . . . . . . . . . . . . . . . . . . \n",
      ". . . . O. . . . . . . . . . . . . . . . . . . . . . . . . . . . . . . . . . . \n",
      ". . . . . . . . . . . . . . . . . . . . . . . . . . . . . . . . . . . O. . . . \n",
      ". . . . . . . . . . . . O. . . . . . . . . . . . . . . . . . . . . . . . . . . \n",
      ". . . . . . . . . . . . . . . . . . . . . . . . . O. . . . . . . . . . . . . . \n",
      ". . . . O. . . . . . . . . . . . . . . . . . . . . . . . . . . . . . . . . . . \n",
      ". O. . . . . . . . . . . . . . . . . . . . . . . . . . . . . . . . . . . . . . \n"
     ]
    }
   ],
   "source": [
    "from sys import stdout\n",
    "from mip import Model, xsum, BINARY\n",
    "\n",
    "# number of queens\n",
    "n = 40\n",
    "\n",
    "queens = Model()\n",
    "\n",
    "x = [[queens.add_var('x({},{})'.format(i, j), var_type = BINARY) \n",
    "      for j in range(n)] for i in range(n)]\n",
    "\n",
    "# one per row\n",
    "for i in range(n):\n",
    "    queens += xsum(x[i][j] for j in range(n)) == 1, 'row({})'.format(i)\n",
    "    \n",
    "    \n",
    "# one per column\n",
    "for j in range(n):\n",
    "    queens += xsum(x[i][j] for j in range(n)) == 1, 'col({})'.format(j)\n",
    "    \n",
    "\n",
    "# diagonal \\ \n",
    "for p, k in enumerate(range(2 - n, n - 2 + 1)):\n",
    "    queens += xsum(x[i][i - k] for i in range(n)\n",
    "                      if 0 <= i - k < n)  <= 1, 'diag1({})'.format(p)\n",
    "\n",
    "\n",
    "# diagonal /\n",
    "for p, k in enumerate(range(2 - n, n - 2 + 1)):\n",
    "    queens += xsum(x[i][i - k] for i in range(n)\n",
    "                      if 0 <= i - k < n) <= 1, 'diag1({})'.format(p)\n",
    "    \n",
    "\n",
    "queens.optimize()\n",
    "\n",
    "if queens.num_solutions:\n",
    "    stdout.write('\\n')\n",
    "    for i, v in enumerate(queens.vars):\n",
    "        stdout.write('O' if v.x >= 0.99 else '. ')\n",
    "        if i % n == n-1:\n",
    "            stdout.write('\\n')"
   ]
  },
  {
   "cell_type": "markdown",
   "metadata": {},
   "source": []
  },
  {
   "cell_type": "markdown",
   "metadata": {},
   "source": [
    "##### In the n-queens puzzle n chess queens should be placed in a board with n x n cells in a way that no queen can attack another, i.e. there must be at most one queen per row, column and diagonal."
   ]
  }
 ],
 "metadata": {
  "kernelspec": {
   "display_name": "Python 3",
   "language": "python",
   "name": "python3"
  },
  "language_info": {
   "codemirror_mode": {
    "name": "ipython",
    "version": 3
   },
   "file_extension": ".py",
   "mimetype": "text/x-python",
   "name": "python",
   "nbconvert_exporter": "python",
   "pygments_lexer": "ipython3",
   "version": "3.8.3"
  }
 },
 "nbformat": 4,
 "nbformat_minor": 4
}
