{
 "cells": [
  {
   "cell_type": "markdown",
   "metadata": {},
   "source": [
    "## Setting solver Limits"
   ]
  },
  {
   "cell_type": "code",
   "execution_count": 1,
   "metadata": {},
   "outputs": [],
   "source": [
    "from __future__ import absolute_import\n",
    "from __future__ import division\n",
    "from __future__ import print_function\n",
    "\n",
    "from ortools.sat.python import cp_model"
   ]
  },
  {
   "cell_type": "code",
   "execution_count": 2,
   "metadata": {},
   "outputs": [],
   "source": [
    "def SolveWithTimeLimitSampleSat():\n",
    "    \"\"\"Minimal CP-SAT example to showcase calling the solver\"\"\"\n",
    "    # Creates the model\n",
    "    model = cp_model.CpModel()\n",
    "    # Creates the variables\n",
    "    num_vals = 3\n",
    "    x = model.NewIntVar(0, num_vals - 1, 'x')\n",
    "    y = model.NewIntVar(0, num_vals - 1, 'y')\n",
    "    z = model.NewIntVar(0, num_vals - 1, 'z')\n",
    "    # Adds an all-different constraints\n",
    "    model.Add(x != y)\n",
    "    \n",
    "    # Creates a solver and solves the model\n",
    "    solver = cp_model.CpSolver()\n",
    "    \n",
    "    # Sets a time limit of 10 seconds.\n",
    "    solver.parameters.max_time_in_seconds = 10.0\n",
    "    \n",
    "    status = solver.Solve(model)\n",
    "    \n",
    "    if status == cp_model.FEASIBLE:\n",
    "        print('x = %i' % solver.Value(x))\n",
    "        print('y = $i' % solver.Value(y))\n",
    "        print('z = %i' % solver.Value(z))\n",
    "            "
   ]
  },
  {
   "cell_type": "code",
   "execution_count": 3,
   "metadata": {},
   "outputs": [],
   "source": [
    "SolveWithTimeLimitSampleSat()"
   ]
  },
  {
   "cell_type": "code",
   "execution_count": null,
   "metadata": {},
   "outputs": [],
   "source": []
  },
  {
   "cell_type": "markdown",
   "metadata": {},
   "source": [
    "## Stopping a search after a specified number of solutions"
   ]
  },
  {
   "cell_type": "code",
   "execution_count": 5,
   "metadata": {},
   "outputs": [],
   "source": [
    "\"\"\"Code sample that solves a model and displays a small number of solutions.\"\"\"\n",
    "\n",
    "from __future__ import absolute_import \n",
    "from __future__ import division\n",
    "from __future__ import print_function\n",
    "\n",
    "from ortools.sat.python import cp_model"
   ]
  },
  {
   "cell_type": "code",
   "execution_count": 6,
   "metadata": {},
   "outputs": [],
   "source": [
    "class VarArraySolutionPrinterWithLimit(cp_model.CpSolverSolutionCallback):\n",
    "    \"\"\"Print intermediate solutions.\"\"\"\n",
    "    \n",
    "    def __init__(self, variables, limit):\n",
    "        cp_model.CpSolverSolutionCallback.__init__(self)\n",
    "        self.__variables = variables\n",
    "        self.__solution_count = 0\n",
    "        self.__solution_limit = limit\n",
    "        \n",
    "    def on_solution_callback(self):\n",
    "        self.__solution_count += 1\n",
    "        for v in self.__variables:\n",
    "            print('%s=%i' % (v, self.Value(v)), end = ' ')\n",
    "        print()\n",
    "        if self.__solution_count >= self.__solution_limit:\n",
    "            print('Stop search after %i solutions' % self.__solution_limit)\n",
    "            self.StopSearch()\n",
    "            \n",
    "    def solution_count(self):\n",
    "        return self.__solution_count\n",
    "    "
   ]
  },
  {
   "cell_type": "code",
   "execution_count": 9,
   "metadata": {},
   "outputs": [
    {
     "name": "stdout",
     "output_type": "stream",
     "text": [
      "x=0 y=0 z=0 \n",
      "x=0 y=1 z=0 \n",
      "x=0 y=1 z=1 \n",
      "Stop search after 3 solutions\n",
      "Status = FEASIBLE\n",
      "Number of solutions found: 3\n"
     ]
    }
   ],
   "source": [
    "def StopAfterNSolutionsSampleSat():\n",
    "    \"\"\"Showcases calling the solver to search for small number of solutions\"\"\"\n",
    "    # Creates the model\n",
    "    model = cp_model.CpModel()\n",
    "    # Creates the variables.\n",
    "    num_vals = 3\n",
    "    x = model.NewIntVar(0, num_vals - 1,'x')\n",
    "    y = model.NewIntVar(0, num_vals - 1, 'y')\n",
    "    z = model.NewIntVar(0, num_vals - 1, 'z')\n",
    "    \n",
    "    # Create a solver and solve\n",
    "    solver = cp_model.CpSolver()\n",
    "    solution_printer = VarArraySolutionPrinterWithLimit([x, y, z], 3)\n",
    "    status = solver.SearchForAllSolutions(model, solution_printer)\n",
    "    print('Status = %s' % solver.StatusName(status))\n",
    "    print('Number of solutions found: %i' % solution_printer.solution_count())\n",
    "    assert solution_printer.solution_count() == 3\n",
    "    \n",
    "StopAfterNSolutionsSampleSat()"
   ]
  },
  {
   "cell_type": "code",
   "execution_count": null,
   "metadata": {},
   "outputs": [],
   "source": []
  }
 ],
 "metadata": {
  "kernelspec": {
   "display_name": "Python 3",
   "language": "python",
   "name": "python3"
  },
  "language_info": {
   "codemirror_mode": {
    "name": "ipython",
    "version": 3
   },
   "file_extension": ".py",
   "mimetype": "text/x-python",
   "name": "python",
   "nbconvert_exporter": "python",
   "pygments_lexer": "ipython3",
   "version": "3.8.3"
  }
 },
 "nbformat": 4,
 "nbformat_minor": 4
}
