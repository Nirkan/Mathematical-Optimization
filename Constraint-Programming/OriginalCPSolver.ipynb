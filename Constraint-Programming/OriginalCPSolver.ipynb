{
 "cells": [
  {
   "cell_type": "code",
   "execution_count": 1,
   "metadata": {},
   "outputs": [],
   "source": [
    "# Import packages\n",
    "\n",
    "from __future__ import print_function\n",
    "import sys\n",
    "from ortools.constraint_solver import pywrapcp\n"
   ]
  },
  {
   "cell_type": "code",
   "execution_count": 2,
   "metadata": {},
   "outputs": [],
   "source": [
    "def main():\n",
    "    solver = pywrapcp.Solver(\"simple_example\")\n",
    "    # Create the variables\n",
    "    num_vals = 3\n",
    "    x = solver.IntVar(0, num_vals - 1, \"x\")\n",
    "    y = solver.IntVar(0, num_vals - 1, \"y\")\n",
    "    z = solver.IntVar(0, num_vals - 1, \"z\")\n",
    "    # Create the constraints.\n",
    "    solver.Add(x != y)\n",
    "    # Call the solver.\n",
    "    db = solver.Phase([x, y, z], solver.CHOOSE_FIRST_UNBOUND, solver.ASSIGN_MIN_VALUE)\n",
    "    solver.Solve(db)\n",
    "    print_solution(solver, x, y, z)\n"
   ]
  },
  {
   "cell_type": "code",
   "execution_count": 4,
   "metadata": {},
   "outputs": [
    {
     "name": "stdout",
     "output_type": "stream",
     "text": [
      "x = 0 y = 1 z = 0\n",
      "x = 0 y = 1 z = 1\n",
      "x = 0 y = 1 z = 2\n",
      "x = 0 y = 2 z = 0\n",
      "x = 0 y = 2 z = 1\n",
      "x = 0 y = 2 z = 2\n",
      "x = 1 y = 0 z = 0\n",
      "x = 1 y = 0 z = 1\n",
      "x = 1 y = 0 z = 2\n",
      "x = 1 y = 2 z = 0\n",
      "x = 1 y = 2 z = 1\n",
      "x = 1 y = 2 z = 2\n",
      "x = 2 y = 0 z = 0\n",
      "x = 2 y = 0 z = 1\n",
      "x = 2 y = 0 z = 2\n",
      "x = 2 y = 1 z = 0\n",
      "x = 2 y = 1 z = 1\n",
      "x = 2 y = 1 z = 2\n",
      "\n",
      "Number of solutions found: 18\n"
     ]
    }
   ],
   "source": [
    "def print_solution(solver, x, y, z):\n",
    "    count = 0\n",
    "    \n",
    "    while solver.NextSolution():\n",
    "        count += 1\n",
    "        print(\"x =\", x.Value(), \"y =\", y.Value(), \"z =\", z.Value())\n",
    "    print(\"\\nNumber of solutions found:\", count)\n",
    "    \n",
    "if __name__ == \"__main__\":\n",
    "    main()"
   ]
  }
 ],
 "metadata": {
  "kernelspec": {
   "display_name": "Python 3",
   "language": "python",
   "name": "python3"
  },
  "language_info": {
   "codemirror_mode": {
    "name": "ipython",
    "version": 3
   },
   "file_extension": ".py",
   "mimetype": "text/x-python",
   "name": "python",
   "nbconvert_exporter": "python",
   "pygments_lexer": "ipython3",
   "version": "3.8.3"
  }
 },
 "nbformat": 4,
 "nbformat_minor": 4
}
