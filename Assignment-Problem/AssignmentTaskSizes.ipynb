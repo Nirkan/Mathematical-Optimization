{
 "cells": [
  {
   "cell_type": "markdown",
   "metadata": {},
   "source": [
    "## Assignment with Task Sizes"
   ]
  },
  {
   "cell_type": "code",
   "execution_count": 9,
   "metadata": {},
   "outputs": [],
   "source": [
    "from __future__ import print_function\n",
    "from ortools.sat.python import cp_model\n",
    "import time\n",
    "import numpy as np\n",
    "\n",
    "def main():\n",
    "    model = cp_model.CpModel()\n",
    "    \n",
    "    start = time.time()\n",
    "    cost = [[90, 76, 75, 70, 50, 74, 12, 68],\n",
    "          [35, 85, 55, 65, 48, 101, 70, 83],\n",
    "          [125, 95, 90, 105, 59, 120, 36, 73],\n",
    "          [45, 110, 95, 115, 104, 83, 37, 71],\n",
    "          [60, 105, 80, 75, 59, 62, 93, 88],\n",
    "          [45, 65, 110, 95, 47, 31, 81, 34],\n",
    "          [38, 51, 107, 41, 69, 99, 115, 48],\n",
    "          [47, 85, 57, 71, 92, 77, 109, 36],\n",
    "          [39, 63, 97, 49, 118, 56, 92, 61],\n",
    "          [47, 101, 71, 60, 88, 109, 52, 90]]\n",
    "    \n",
    "    sizes = [10, 7, 3, 12, 15, 4, 11, 5]\n",
    "    total_size_max = 15\n",
    "    num_workers = len(cost)\n",
    "    num_tasks = len(cost[1])\n",
    "    \n",
    "    # Variables\n",
    "    \n",
    "    x = []\n",
    "    for i in range(num_workers):\n",
    "        t = []\n",
    "        for j in range(num_tasks):\n",
    "            t.append(model.NewIntVar(0, 1, \"x[%i, %i]\" % (i, j)))\n",
    "        x.append(t)\n",
    "    x_array = [x[i][j] for i in range(num_workers) for j in range(num_tasks)]\n",
    "    \n",
    "    \n",
    "    # Constraints\n",
    "    \n",
    "    # Each task is assigned to at least one worker.\n",
    "    [model.Add(sum(x[i][j] for i in range(num_workers)) >= 1)\n",
    "    for j in range(num_tasks)]\n",
    "    \n",
    "    # Total size of tasks for each worker is at most total_size_max.\n",
    "    \n",
    "    [model.Add(sum(sizes[j] * x[i][j] for j in range(num_tasks)) <= total_size_max) \n",
    "    for i in range(num_workers)]\n",
    "    \n",
    "    model.Minimize(sum([np.dot(x_row, cost_row) for (x_row, cost_row) in zip(x, cost)]))\n",
    "    solver = cp_model.CpSolver()\n",
    "    status = solver.Solve(model)\n",
    "    \n",
    "    if status == cp_model.OPTIMAL:\n",
    "        print('Minimum cost = %i' % solver.ObjectiveValue())\n",
    "        print()\n",
    "        \n",
    "        for i in range(num_workers):\n",
    "            for j in range(num_tasks):\n",
    "                if solver.Value(x[i][j]) == 1:\n",
    "                    print('Worker', i, ' assigned to task ', j, ' Cost = ', cost[i][j])\n",
    "        print()\n",
    "        end = time.time()\n",
    "        print(\"Time = \", round(end - start, 4), \"seconds\")\n",
    "        \n",
    "        \n",
    "if __name__ == ' __main__':\n",
    "    main()"
   ]
  }
 ],
 "metadata": {
  "kernelspec": {
   "display_name": "Python 3",
   "language": "python",
   "name": "python3"
  },
  "language_info": {
   "codemirror_mode": {
    "name": "ipython",
    "version": 3
   },
   "file_extension": ".py",
   "mimetype": "text/x-python",
   "name": "python",
   "nbconvert_exporter": "python",
   "pygments_lexer": "ipython3",
   "version": "3.8.3"
  }
 },
 "nbformat": 4,
 "nbformat_minor": 4
}
