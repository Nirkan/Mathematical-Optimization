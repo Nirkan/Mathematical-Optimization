{
 "cells": [
  {
   "cell_type": "markdown",
   "metadata": {},
   "source": [
    "### Solving Optimization Problem"
   ]
  },
  {
   "cell_type": "markdown",
   "metadata": {},
   "source": [
    "#### Declare the model - Create Variables - Define the constraints - Define the objective function - Call the solver"
   ]
  },
  {
   "cell_type": "code",
   "execution_count": null,
   "metadata": {},
   "outputs": [],
   "source": []
  },
  {
   "cell_type": "code",
   "execution_count": 5,
   "metadata": {},
   "outputs": [
    {
     "name": "stdout",
     "output_type": "stream",
     "text": [
      "Maximum of objective fucntion: 35\n",
      "\n",
      "x value:  7\n",
      "y value:  3\n",
      "z value:  5\n"
     ]
    }
   ],
   "source": [
    "from __future__ import print_function\n",
    "from ortools.sat.python import cp_model\n",
    "\n",
    "def main():\n",
    "    \n",
    "    # Declare the model\n",
    "    model = cp_model.CpModel()\n",
    "    \n",
    "    # Create Variables\n",
    "    var_upper_bound = max(50, 45, 37)\n",
    "    x = model.NewIntVar(0, var_upper_bound, 'x')\n",
    "    y = model.NewIntVar(0, var_upper_bound, 'y')\n",
    "    z = model.NewIntVar(0, var_upper_bound, 'z')\n",
    "    \n",
    "    # Define the constraints\n",
    "    model.Add(2*x + 7*y + 3*z <= 50)\n",
    "    model.Add(3*x - 5*y + 7*z <= 45)\n",
    "    model.Add(5*x + 2*y - 6*z <= 37)\n",
    "    \n",
    "    # Define the objective function\n",
    "    model.Maximize(2*x + 2*y + 3*z)\n",
    "    \n",
    "    # Call the solver\n",
    "    solver = cp_model.CpSolver()\n",
    "    status = solver.Solve(model)\n",
    "    \n",
    "    if status == cp_model.OPTIMAL:\n",
    "        print('Maximum of objective fucntion: %i' % solver.ObjectiveValue())\n",
    "        print()\n",
    "        print('x value: ', solver.Value(x))\n",
    "        print('y value: ', solver.Value(y))\n",
    "        print('z value: ', solver.Value(z))\n",
    "        \n",
    "        \n",
    "if __name__ == '__main__':\n",
    "    main()"
   ]
  },
  {
   "cell_type": "markdown",
   "metadata": {},
   "source": [
    "{"
   ]
  },
  {
   "cell_type": "markdown",
   "metadata": {},
   "source": [
    "#### Here we find the optimal solution in the problem."
   ]
  },
  {
   "cell_type": "markdown",
   "metadata": {},
   "source": [
    "}"
   ]
  }
 ],
 "metadata": {
  "kernelspec": {
   "display_name": "Python 3",
   "language": "python",
   "name": "python3"
  },
  "language_info": {
   "codemirror_mode": {
    "name": "ipython",
    "version": 3
   },
   "file_extension": ".py",
   "mimetype": "text/x-python",
   "name": "python",
   "nbconvert_exporter": "python",
   "pygments_lexer": "ipython3",
   "version": "3.8.3"
  }
 },
 "nbformat": 4,
 "nbformat_minor": 4
}
