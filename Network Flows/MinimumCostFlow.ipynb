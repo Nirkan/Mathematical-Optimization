{
 "cells": [
  {
   "cell_type": "markdown",
   "metadata": {},
   "source": [
    "### Minimum cost flow"
   ]
  },
  {
   "cell_type": "code",
   "execution_count": 1,
   "metadata": {},
   "outputs": [],
   "source": [
    "from __future__ import print_function\n",
    "from ortools.graph import pywrapgraph"
   ]
  },
  {
   "cell_type": "code",
   "execution_count": 6,
   "metadata": {},
   "outputs": [
    {
     "name": "stdout",
     "output_type": "stream",
     "text": [
      "Minimum cost: 150\n",
      "\n",
      " Arc  Flow/ Capacity Cost\n",
      "0 -> 1  12 /  15     48\n",
      "0 -> 2   8 /   8     32\n",
      "1 -> 2   8 /  20     16\n",
      "1 -> 3   4 /   4      8\n",
      "1 -> 4   0 /  10      0\n",
      "2 -> 3  12 /  15     12\n",
      "2 -> 4   4 /   4     12\n",
      "3 -> 4  11 /  20     22\n",
      "4 -> 2   0 /   5      0\n"
     ]
    }
   ],
   "source": [
    "def main():\n",
    "    \"\"\"MinCostFlow simple interface example.\"\"\"\n",
    "    \n",
    "    # Define four parallel arrays: start_nodes, end_nodes, capaciteis, and unit costs\n",
    "    # between each pair. For instance, the arc from node 0 to node 1 has a \n",
    "    # capacity of 15 and a unit cost of 4.\n",
    "    \n",
    "    start_nodes = [0, 0, 1, 1, 1, 2, 2, 3, 4]\n",
    "    end_nodes =   [1, 2, 2, 3, 4, 3, 4, 4, 2]\n",
    "    capacities = [15, 8, 20, 4, 10, 15, 4, 20, 5]\n",
    "    unit_costs = [4, 4, 2, 2, 6, 1, 3, 2, 3]\n",
    "    \n",
    "    \n",
    "    # Define an array  of supplies at each node.\n",
    "    \n",
    "    supplies = [20, 0, 0, -5, -15]\n",
    "    \n",
    "    \n",
    "    # Instantiate a SimpleMinCostFlow solver.\n",
    "    min_cost_flow = pywrapgraph.SimpleMinCostFlow()\n",
    "    \n",
    "    \n",
    "    # Add each arc.\n",
    "    for i in range(0, len(start_nodes)):\n",
    "        min_cost_flow.AddArcWithCapacityAndUnitCost(start_nodes[i], end_nodes[i],\n",
    "                                                   capacities[i], unit_costs[i])\n",
    "        \n",
    "    \n",
    "    # Add node supplies.\n",
    "    \n",
    "    for i in range(0, len(supplies)):\n",
    "        min_cost_flow.SetNodeSupply(i, supplies[i])\n",
    "    \n",
    "    \n",
    "    # Find the minimum cost flow between node 0 and node 4.\n",
    "    \n",
    "    if min_cost_flow.Solve() == min_cost_flow.OPTIMAL:\n",
    "        print('Minimum cost:', min_cost_flow.OptimalCost())\n",
    "        print('')\n",
    "        print(' Arc  Flow/ Capacity Cost')\n",
    "        for i in range(min_cost_flow.NumArcs()):\n",
    "            cost = min_cost_flow.Flow(i) * min_cost_flow.UnitCost(i)\n",
    "            print('%1s -> %1s %3s / %3s    %3s' % (\n",
    "                min_cost_flow.Tail(i),\n",
    "                min_cost_flow.Head(i),\n",
    "                min_cost_flow.Flow(i),\n",
    "                min_cost_flow.Capacity(i),\n",
    "                cost))\n",
    "    else:\n",
    "        print('There was an issue with the min cost flow input.')\n",
    "        \n",
    "\n",
    "if __name__ == '__main__':\n",
    "    main()"
   ]
  }
 ],
 "metadata": {
  "kernelspec": {
   "display_name": "Python 3",
   "language": "python",
   "name": "python3"
  },
  "language_info": {
   "codemirror_mode": {
    "name": "ipython",
    "version": 3
   },
   "file_extension": ".py",
   "mimetype": "text/x-python",
   "name": "python",
   "nbconvert_exporter": "python",
   "pygments_lexer": "ipython3",
   "version": "3.8.3"
  }
 },
 "nbformat": 4,
 "nbformat_minor": 4
}
