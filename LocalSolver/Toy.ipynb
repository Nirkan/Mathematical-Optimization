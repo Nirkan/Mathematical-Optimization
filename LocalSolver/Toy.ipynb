{
 "cells": [
  {
   "cell_type": "code",
   "execution_count": 1,
   "metadata": {},
   "outputs": [],
   "source": [
    "import localsolver"
   ]
  },
  {
   "cell_type": "code",
   "execution_count": 5,
   "metadata": {},
   "outputs": [
    {
     "name": "stdout",
     "output_type": "stream",
     "text": [
      "Push initial solutions 100%\u001b[2K\n",
      "\u001b[1m\u001b[4mModel\u001b[0m:  expressions = 38, decisions = 8, constraints = 1, objectives = 1\n",
      "\u001b[1m\u001b[4mParam\u001b[0m:  time limit = 10 sec, no iteration limit\n",
      "\n",
      "[objective direction ]:     maximize\n",
      "\n",
      "[  0 sec,       0 itr]:            0\n",
      "[ optimality gap     ]:         100%\n",
      "[  0 sec,   15651 itr]:          280\n",
      "[ optimality gap     ]:           0%\n",
      "\n",
      "15651 iterations performed in 0 seconds\n",
      "\n",
      "\u001b[1m\u001b[36mOptimal solution: \u001b[0m\n",
      "  obj    =          280\n",
      "  gap    =           0%\n",
      "  bounds =          280\n"
     ]
    }
   ],
   "source": [
    "with localsolver.LocalSolver() as ls:\n",
    "    weights = [10, 60, 30, 40, 30, 20, 20, 2]\n",
    "    values = [1, 10, 15, 40, 60, 90, 100, 15]\n",
    "    knapsack_bound = 102\n",
    "    \n",
    "    # Declare the optimization model\n",
    "    model = ls.model\n",
    "    \n",
    "    # 0-1 decisions\n",
    "    x = [model.bool() for i in range(8)]\n",
    "    \n",
    "    # weight constraint\n",
    "    knapsack_weight = model.sum(weights[i]*x[i] for i in range(8))\n",
    "    model.constraint(knapsack_weight <= knapsack_bound)\n",
    "    \n",
    "    # maximize value\n",
    "    knapsack_value = model.sum(values[i]*x[i] for i in range(8))\n",
    "    model.maximize(knapsack_value)\n",
    "    \n",
    "    model.close()\n",
    "    \n",
    "    # Parameterizes the sovler\n",
    "    ls.param.time_limit = 10\n",
    "    \n",
    "    ls.solve()"
   ]
  },
  {
   "cell_type": "markdown",
   "metadata": {},
   "source": [
    "#### The maximum value of knapsack is 280."
   ]
  }
 ],
 "metadata": {
  "kernelspec": {
   "display_name": "Python 3",
   "language": "python",
   "name": "python3"
  },
  "language_info": {
   "codemirror_mode": {
    "name": "ipython",
    "version": 3
   },
   "file_extension": ".py",
   "mimetype": "text/x-python",
   "name": "python",
   "nbconvert_exporter": "python",
   "pygments_lexer": "ipython3",
   "version": "3.8.3"
  }
 },
 "nbformat": 4,
 "nbformat_minor": 4
}
