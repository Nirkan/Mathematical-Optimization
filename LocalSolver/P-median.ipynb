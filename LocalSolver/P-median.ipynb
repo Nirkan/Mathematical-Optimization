{
 "cells": [
  {
   "cell_type": "code",
   "execution_count": 1,
   "metadata": {},
   "outputs": [],
   "source": [
    "import localsolver\n",
    "import sys"
   ]
  },
  {
   "cell_type": "code",
   "execution_count": 10,
   "metadata": {},
   "outputs": [],
   "source": [
    "f = open('pmed1.in')\n",
    "it = [int(elem) for elem in f.read().split()]"
   ]
  },
  {
   "cell_type": "code",
   "execution_count": 36,
   "metadata": {},
   "outputs": [
    {
     "name": "stdout",
     "output_type": "stream",
     "text": [
      "Push initial solutions 100%\u001b[2K\n",
      "\u001b[1m\u001b[4mModel\u001b[0m:  expressions = 10489, decisions = 100, constraints = 1, objectives = 1\n",
      "\u001b[1m\u001b[4mParam\u001b[0m:  time limit = 5 sec, no iteration limit\n",
      "\n",
      "[objective direction ]:     minimize\n",
      "\n",
      "[  0 sec,       0 itr]:        59800\n",
      "[ optimality gap     ]:         100%\n",
      "[  1 sec,       0 itr]:        59800\n",
      "[  2 sec,     922 itr]:         5899\n",
      "[  3 sec,   21047 itr]:         5819\n",
      "[  4 sec,   38909 itr]:         5819\n",
      "[  5 sec,   56066 itr]:         5819\n",
      "[  5 sec,   56066 itr]:         5819\n",
      "[ optimality gap     ]:       99.19%\n",
      "\n",
      "56066 iterations performed in 5 seconds\n",
      "\n",
      "\u001b[1m\u001b[32mFeasible solution: \u001b[0m\n",
      "  obj    =         5819\n",
      "  gap    =       99.19%\n",
      "  bounds =           47\n"
     ]
    }
   ],
   "source": [
    "with localsolver.LocalSolver() as ls:\n",
    "    \n",
    "    # Reads instance data\n",
    "    file_it = iter(it)\n",
    "    \n",
    "    # Number of locations\n",
    "    N = next(file_it)\n",
    "    \n",
    "    # Number of edges between locations\n",
    "    E = next(file_it)\n",
    "    \n",
    "    # Size of the subset S of locations\n",
    "    p = next(file_it)\n",
    "    \n",
    "    # w: Weight matrix of the shortest path between locations\n",
    "    # wmax: Maximum distance between two locations\n",
    "    wmax = 0\n",
    "    w = [None]*N\n",
    "    for i in range(N):\n",
    "        w[i] = [None]*N\n",
    "        for j in range(N):\n",
    "            w[i][j] = next(file_it)\n",
    "            if w[i][j] > wmax:\n",
    "                wmax = w[i][j]\n",
    "                \n",
    "                \n",
    "    # Declares the optimization model\n",
    "    m = ls.model\n",
    "    \n",
    "    # Decision variables\n",
    "    x = [m.bool() for i in range(N)]\n",
    "    \n",
    "    # No more than p locations are selected\n",
    "    opened_locations = m.sum(x[i] for i in range(N))\n",
    "    m.constraint(opened_locations <= p)\n",
    "    \n",
    "    # Costs between location i and j is w[i][j] if j is selected in S or 2*wmax if not\n",
    "    costs = [None]*N\n",
    "    for i in range(N):\n",
    "        costs[i] = [None]*N\n",
    "        for j in range(N):\n",
    "            costs[i][j] = m.iif(x[j], w[i][j], 2*wmax)\n",
    "            \n",
    "    # Cost between location i and the closest selected location\n",
    "    cost = [None]*N\n",
    "    for i in range(N):\n",
    "        cost[i] = m.min(costs[i][j] for j in range(N))\n",
    "            \n",
    "    # Minimize the total cost\n",
    "    total_cost = m.sum(cost[i] for i in range(N))\n",
    "    m.minimize(total_cost)\n",
    "    \n",
    "    m.close()\n",
    "    \n",
    "    # Parametrizes the solver\n",
    "    \n",
    "    ls.param.time_limit = 5\n",
    "    \n",
    "    ls.solve()\n",
    "             "
   ]
  },
  {
   "cell_type": "code",
   "execution_count": null,
   "metadata": {},
   "outputs": [],
   "source": []
  }
 ],
 "metadata": {
  "kernelspec": {
   "display_name": "Python 3",
   "language": "python",
   "name": "python3"
  },
  "language_info": {
   "codemirror_mode": {
    "name": "ipython",
    "version": 3
   },
   "file_extension": ".py",
   "mimetype": "text/x-python",
   "name": "python",
   "nbconvert_exporter": "python",
   "pygments_lexer": "ipython3",
   "version": "3.8.3"
  }
 },
 "nbformat": 4,
 "nbformat_minor": 4
}
