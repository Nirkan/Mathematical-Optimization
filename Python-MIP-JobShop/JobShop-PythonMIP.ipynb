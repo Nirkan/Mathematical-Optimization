{
 "cells": [
  {
   "cell_type": "code",
   "execution_count": 1,
   "metadata": {},
   "outputs": [],
   "source": [
    "from itertools import product\n",
    "from mip import Model, BINARY"
   ]
  },
  {
   "cell_type": "code",
   "execution_count": 2,
   "metadata": {},
   "outputs": [],
   "source": [
    "n = m = 3"
   ]
  },
  {
   "cell_type": "code",
   "execution_count": 3,
   "metadata": {},
   "outputs": [],
   "source": [
    "times = [[2, 1, 2],\n",
    "        [1, 2, 2],\n",
    "        [1, 2, 1]]"
   ]
  },
  {
   "cell_type": "code",
   "execution_count": 4,
   "metadata": {},
   "outputs": [],
   "source": [
    "M = sum(times[i][j] for i in range(n) for j in range(m))"
   ]
  },
  {
   "cell_type": "code",
   "execution_count": 5,
   "metadata": {},
   "outputs": [],
   "source": [
    "machines = [[2, 0, 1],\n",
    "           [1, 2, 0],\n",
    "           [2, 1, 0]]"
   ]
  },
  {
   "cell_type": "code",
   "execution_count": 6,
   "metadata": {},
   "outputs": [],
   "source": [
    "model = Model('JSSP')"
   ]
  },
  {
   "cell_type": "code",
   "execution_count": 7,
   "metadata": {},
   "outputs": [],
   "source": [
    "c = model.add_var(name=\"C\")"
   ]
  },
  {
   "cell_type": "code",
   "execution_count": 8,
   "metadata": {},
   "outputs": [],
   "source": [
    "x = [[model.add_var(name = 'x({},{})'.format(j+1, i+1))\n",
    "    for i in range(m)] for j in range(n)]"
   ]
  },
  {
   "cell_type": "code",
   "execution_count": 9,
   "metadata": {},
   "outputs": [],
   "source": [
    "y = [[[model.add_var(var_type = BINARY, name='y({},{},{})'.format(j+1, k+1, i+1))\n",
    "      for i in range(m)] for k in range(n)] for j in range(n)]"
   ]
  },
  {
   "cell_type": "code",
   "execution_count": 10,
   "metadata": {},
   "outputs": [],
   "source": [
    "model.objective = c"
   ]
  },
  {
   "cell_type": "code",
   "execution_count": 11,
   "metadata": {},
   "outputs": [],
   "source": [
    "for (j, i) in product(range(n), range(1, m)):\n",
    "    model += x[j][machines[j][i]] - x[j][machines[j][i - 1]] >= \\\n",
    "        times[j][machines[j][i-1]]"
   ]
  },
  {
   "cell_type": "code",
   "execution_count": 12,
   "metadata": {},
   "outputs": [],
   "source": [
    "for (j, k) in product(range(n), range(n)):\n",
    "    if k != j:\n",
    "        for i in range(m):\n",
    "            model  += x[j][i] - x[k][i] + M*y[j][k][i] >= times[k][i]\n",
    "            model += -x[j][i] + x[k][i] - M*y[j][k][i] >= times[j][i] - M"
   ]
  },
  {
   "cell_type": "code",
   "execution_count": 13,
   "metadata": {},
   "outputs": [],
   "source": [
    "for j in range(n):\n",
    "    model += c - x[j][machines[j][m - 1]] >= times[j][machines[j][m - 1]]"
   ]
  },
  {
   "cell_type": "code",
   "execution_count": 14,
   "metadata": {},
   "outputs": [
    {
     "data": {
      "text/plain": [
       "<OptimizationStatus.OPTIMAL: 0>"
      ]
     },
     "execution_count": 14,
     "metadata": {},
     "output_type": "execute_result"
    }
   ],
   "source": [
    "model.optimize()"
   ]
  },
  {
   "cell_type": "code",
   "execution_count": 17,
   "metadata": {},
   "outputs": [
    {
     "name": "stdout",
     "output_type": "stream",
     "text": [
      "Completion time:  7.0\n",
      "task 1 starts on machine 3 at time 1 \n",
      "task 1 starts on machine 3 at time 1 \n",
      "task 1 starts on machine 3 at time 1 \n",
      "task 2 starts on machine 3 at time 3 \n",
      "task 2 starts on machine 3 at time 3 \n",
      "task 2 starts on machine 3 at time 3 \n",
      "task 3 starts on machine 3 at time 0 \n",
      "task 3 starts on machine 3 at time 0 \n",
      "task 3 starts on machine 3 at time 0 \n"
     ]
    }
   ],
   "source": [
    "print(\"Completion time: \", c.x)\n",
    "for (j, k) in product(range(n), range(n)):\n",
    "    print(\"task %d starts on machine %d at time %g \" % (j+1, i+1, x[j][i].x))\n"
   ]
  },
  {
   "cell_type": "code",
   "execution_count": null,
   "metadata": {},
   "outputs": [],
   "source": []
  },
  {
   "cell_type": "markdown",
   "metadata": {},
   "source": [
    "### The complete Program"
   ]
  },
  {
   "cell_type": "code",
   "execution_count": null,
   "metadata": {},
   "outputs": [],
   "source": []
  },
  {
   "cell_type": "code",
   "execution_count": 16,
   "metadata": {},
   "outputs": [
    {
     "name": "stdout",
     "output_type": "stream",
     "text": [
      "Completion time:  7.0\n",
      "task 1 starts on machine 1 at time 3 \n",
      "task 1 starts on machine 2 at time 5 \n",
      "task 1 starts on machine 3 at time 1 \n",
      "task 2 starts on machine 1 at time 6 \n",
      "task 2 starts on machine 2 at time 0 \n",
      "task 2 starts on machine 3 at time 3 \n",
      "task 3 starts on machine 1 at time 5 \n",
      "task 3 starts on machine 2 at time 2 \n",
      "task 3 starts on machine 3 at time 0 \n"
     ]
    }
   ],
   "source": [
    "from mip import Model, BINARY\n",
    "\n",
    "n = m = 3\n",
    "\n",
    "times = [[2, 1, 2],\n",
    "         [1, 2, 2],\n",
    "         [1, 2, 1]]\n",
    "\n",
    "M = sum(times[i][j] for i in range(n) for j in range(m))\n",
    "\n",
    "machines = [[2, 0, 1],\n",
    "            [1, 2, 0],\n",
    "            [2, 1, 0]]\n",
    "\n",
    "model = Model('JSSP')\n",
    "\n",
    "c = model.add_var(name=\"C\")\n",
    "x = [[model.add_var(name='x({},{})'.format(j+1, i+1))\n",
    "      for i in range(m)] for j in range(n)]\n",
    "y = [[[model.add_var(var_type=BINARY, name='y({},{},{})'.format(j+1, k+1, i+1))\n",
    "       for i in range(m)] for k in range(n)] for j in range(n)]\n",
    "\n",
    "model.objective = c\n",
    "\n",
    "for (j, i) in product(range(n), range(1, m)):\n",
    "    model += x[j][machines[j][i]] - x[j][machines[j][i-1]] >= \\\n",
    "        times[j][machines[j][i-1]]\n",
    "\n",
    "for (j, k) in product(range(n), range(n)):\n",
    "    if k != j:\n",
    "        for i in range(m):\n",
    "            model += x[j][i] - x[k][i] + M*y[j][k][i] >= times[k][i]\n",
    "            model += -x[j][i] + x[k][i] - M*y[j][k][i] >= times[j][i] - M\n",
    "\n",
    "for j in range(n):\n",
    "    model += c - x[j][machines[j][m - 1]] >= times[j][machines[j][m - 1]]\n",
    "\n",
    "model.optimize()\n",
    "\n",
    "print(\"Completion time: \", c.x)\n",
    "for (j, i) in product(range(n), range(m)):\n",
    "    print(\"task %d starts on machine %d at time %g \" % (j+1, i+1, x[j][i].x))"
   ]
  },
  {
   "cell_type": "code",
   "execution_count": null,
   "metadata": {},
   "outputs": [],
   "source": []
  }
 ],
 "metadata": {
  "kernelspec": {
   "display_name": "Python 3",
   "language": "python",
   "name": "python3"
  },
  "language_info": {
   "codemirror_mode": {
    "name": "ipython",
    "version": 3
   },
   "file_extension": ".py",
   "mimetype": "text/x-python",
   "name": "python",
   "nbconvert_exporter": "python",
   "pygments_lexer": "ipython3",
   "version": "3.8.3"
  }
 },
 "nbformat": 4,
 "nbformat_minor": 4
}
