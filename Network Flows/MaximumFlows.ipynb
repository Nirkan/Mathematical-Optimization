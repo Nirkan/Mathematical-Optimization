{
 "cells": [
  {
   "cell_type": "code",
   "execution_count": 1,
   "metadata": {},
   "outputs": [],
   "source": [
    "from __future__ import print_function\n",
    "from ortools.graph import pywrapgraph"
   ]
  },
  {
   "cell_type": "code",
   "execution_count": 3,
   "metadata": {},
   "outputs": [
    {
     "name": "stdout",
     "output_type": "stream",
     "text": [
      "max flow: 60\n",
      "\n",
      " Arc Flow/ Capacity\n",
      "0 -> 1   20 /  20\n",
      "Source side min-cut: [0]\n",
      "Sink side min-cut: [4, 1]\n",
      "0 -> 2   30 /  30\n",
      "Source side min-cut: [0]\n",
      "Sink side min-cut: [4, 1]\n",
      "0 -> 3   10 /  10\n",
      "Source side min-cut: [0]\n",
      "Sink side min-cut: [4, 1]\n",
      "1 -> 2    0 /  40\n",
      "Source side min-cut: [0]\n",
      "Sink side min-cut: [4, 1]\n",
      "1 -> 4   20 /  30\n",
      "Source side min-cut: [0]\n",
      "Sink side min-cut: [4, 1]\n",
      "2 -> 3   10 /  10\n",
      "Source side min-cut: [0]\n",
      "Sink side min-cut: [4, 1]\n",
      "2 -> 4   20 /  20\n",
      "Source side min-cut: [0]\n",
      "Sink side min-cut: [4, 1]\n",
      "3 -> 2    0 /   5\n",
      "Source side min-cut: [0]\n",
      "Sink side min-cut: [4, 1]\n",
      "3 -> 4   20 /  20\n",
      "Source side min-cut: [0]\n",
      "Sink side min-cut: [4, 1]\n",
      "There was an issue with the max flow input.\n"
     ]
    }
   ],
   "source": [
    "def main():\n",
    "    \"\"\"MaxFlow simple interface example.\"\"\"\n",
    "    \n",
    "    # Define three parallel arrays: start_nodes, end_nodes and the capacities\n",
    "    # between each pair. For instance, the arc from node 0 to node 1 has a \n",
    "    # capacity of 20.\n",
    "    \n",
    "    start_nodes = [0, 0, 0, 1, 1, 2, 2, 3, 3]\n",
    "    end_nodes = [1, 2, 3, 2, 4, 3, 4, 2, 4]\n",
    "    capacities = [20, 30, 10, 40, 30, 10, 20, 5, 20]\n",
    "    \n",
    "    # Instantiae a SimpleMaxFlow solver.\n",
    "    max_flow = pywrapgraph.SimpleMaxFlow()\n",
    "    \n",
    "    # Add each arc.\n",
    "    for i in range(0, len(start_nodes)):\n",
    "        max_flow.AddArcWithCapacity(start_nodes[i], end_nodes[i], capacities[i])\n",
    "        \n",
    "    # Find the maximum flow between node 0 and node 4. \n",
    "    if max_flow.Solve(0, 4)  == max_flow.OPTIMAL:\n",
    "        print('max flow:', max_flow.OptimalFlow())\n",
    "        print('')\n",
    "        print(' Arc Flow/ Capacity')\n",
    "        for i in range(max_flow.NumArcs()):\n",
    "            print('%1s -> %1s  %3s / %3s' % (\n",
    "                max_flow.Tail(i),\n",
    "                max_flow.Head(i),\n",
    "                max_flow.Flow(i),\n",
    "                max_flow.Capacity(i)))\n",
    "            print('Source side min-cut:', max_flow.GetSourceSideMinCut())\n",
    "            print('Sink side min-cut:', max_flow.GetSinkSideMinCut())\n",
    "        else:\n",
    "            print('There was an issue with the max flow input.')\n",
    "            \n",
    "            \n",
    "if __name__ == '__main__':\n",
    "    main()"
   ]
  }
 ],
 "metadata": {
  "kernelspec": {
   "display_name": "Python 3",
   "language": "python",
   "name": "python3"
  },
  "language_info": {
   "codemirror_mode": {
    "name": "ipython",
    "version": 3
   },
   "file_extension": ".py",
   "mimetype": "text/x-python",
   "name": "python",
   "nbconvert_exporter": "python",
   "pygments_lexer": "ipython3",
   "version": "3.8.3"
  }
 },
 "nbformat": 4,
 "nbformat_minor": 4
}
