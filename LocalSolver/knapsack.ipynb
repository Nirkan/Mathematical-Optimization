{
 "cells": [
  {
   "cell_type": "code",
   "execution_count": 1,
   "metadata": {},
   "outputs": [],
   "source": [
    "import localsolver\n",
    "import sys"
   ]
  },
  {
   "cell_type": "code",
   "execution_count": 2,
   "metadata": {},
   "outputs": [],
   "source": [
    "f = open('kp_100_1.in')"
   ]
  },
  {
   "cell_type": "code",
   "execution_count": 4,
   "metadata": {},
   "outputs": [],
   "source": [
    "it = [int(elem) for elem in f.read().split()]"
   ]
  },
  {
   "cell_type": "code",
   "execution_count": 15,
   "metadata": {},
   "outputs": [
    {
     "name": "stdout",
     "output_type": "stream",
     "text": [
      "Push initial solutions 100%\u001b[2K\n",
      "\u001b[1m\u001b[4mModel\u001b[0m:  expressions = 479, decisions = 100, constraints = 1, objectives = 1\n",
      "\u001b[1m\u001b[4mParam\u001b[0m:  no time limit, no iteration limit\n",
      "\n",
      "[objective direction ]:     maximize\n",
      "\n",
      "[  0 sec,       0 itr]:            0\n",
      "[ optimality gap     ]:         100%\n",
      "[  0 sec,   13955 itr]:        41700\n",
      "[ optimality gap     ]:      < 0.01%\n",
      "\n",
      "13955 iterations performed in 0 seconds\n",
      "\n",
      "\u001b[1m\u001b[36mOptimal solution: \u001b[0m\n",
      "  obj    =        41700\n",
      "  gap    =      < 0.01%\n",
      "  bounds =        41704\n"
     ]
    }
   ],
   "source": [
    "with localsolver.LocalSolver() as ls:\n",
    "    \n",
    "    # Reads instance data\n",
    "    file_it = iter(it)\n",
    "    \n",
    "    # Number of items\n",
    "    nb_items = next(file_it)\n",
    "    \n",
    "    # Items of items\n",
    "    weights = [next(file_it) for i in range(nb_items)]\n",
    "    values = [next(file_it) for i in range(nb_items)]\n",
    "    \n",
    "    # knabsack bound\n",
    "    knapsack_bound = next(file_it)\n",
    "    \n",
    "    # Declares the optimization model\n",
    "    model = ls.model\n",
    "    \n",
    "    # Decision variables x[i]\n",
    "    x = [model.bool() for i in range(nb_items)]\n",
    "    \n",
    "    # Weight constraint\n",
    "    knapsack_weight = model.sum(x[i]*weights[i] for i in range(nb_items))\n",
    "    model.constraint(knapsack_weight <= knapsack_bound)\n",
    "    \n",
    "    # Maximize value\n",
    "    knapsack_value = model.sum(x[i]*values[i] for i in range(nb_items))\n",
    "    model.maximize(knapsack_value)\n",
    "    \n",
    "    model.close()\n",
    "    \n",
    "    # Parameterizes the solver\n",
    "    \n",
    "    ls.solve()"
   ]
  },
  {
   "cell_type": "raw",
   "metadata": {},
   "source": []
  },
  {
   "cell_type": "markdown",
   "metadata": {},
   "source": [
    "#### Knapsack problem using LocalSolver is similar to toy problem.\n",
    "\n",
    "#### These items are written in a seperate file."
   ]
  }
 ],
 "metadata": {
  "kernelspec": {
   "display_name": "Python 3",
   "language": "python",
   "name": "python3"
  },
  "language_info": {
   "codemirror_mode": {
    "name": "ipython",
    "version": 3
   },
   "file_extension": ".py",
   "mimetype": "text/x-python",
   "name": "python",
   "nbconvert_exporter": "python",
   "pygments_lexer": "ipython3",
   "version": "3.8.3"
  }
 },
 "nbformat": 4,
 "nbformat_minor": 4
}
