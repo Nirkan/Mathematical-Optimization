{
 "cells": [
  {
   "cell_type": "code",
   "execution_count": 1,
   "metadata": {},
   "outputs": [],
   "source": [
    "# Import Python wrapper for or-tools CP-SAT solver\n",
    "from ortools.sat.python import cp_model"
   ]
  },
  {
   "cell_type": "code",
   "execution_count": 2,
   "metadata": {},
   "outputs": [],
   "source": [
    "# Create the model.\n",
    "model = cp_model.CpModel()"
   ]
  },
  {
   "cell_type": "code",
   "execution_count": 3,
   "metadata": {},
   "outputs": [],
   "source": [
    " jobs_data = [ # task = (machine_id, processing_time).\n",
    "        [(0, 3), (1, 2), (2, 2)],   # Job0,\n",
    "        [(0, 2), (2, 1), (1, 4)],  # Job1\n",
    "        [(1, 4), (2, 3)]           # Job2\n",
    "    ]"
   ]
  },
  {
   "cell_type": "code",
   "execution_count": 4,
   "metadata": {},
   "outputs": [],
   "source": [
    "machine_count = 1 + max(task[0] for job in jobs_data for task in job)\n",
    "all_machines = range(machine_count)"
   ]
  },
  {
   "cell_type": "code",
   "execution_count": 5,
   "metadata": {},
   "outputs": [
    {
     "data": {
      "text/plain": [
       "3"
      ]
     },
     "execution_count": 5,
     "metadata": {},
     "output_type": "execute_result"
    }
   ],
   "source": [
    "machine_count"
   ]
  },
  {
   "cell_type": "code",
   "execution_count": 6,
   "metadata": {},
   "outputs": [
    {
     "data": {
      "text/plain": [
       "range(0, 3)"
      ]
     },
     "execution_count": 6,
     "metadata": {},
     "output_type": "execute_result"
    }
   ],
   "source": [
    "all_machines"
   ]
  },
  {
   "cell_type": "code",
   "execution_count": 7,
   "metadata": {},
   "outputs": [],
   "source": [
    "# Computes horizon dynamically as the sum of all durations\n",
    "horizon = sum(task[1] for job in jobs_data for task in job)"
   ]
  },
  {
   "cell_type": "code",
   "execution_count": 8,
   "metadata": {},
   "outputs": [
    {
     "data": {
      "text/plain": [
       "21"
      ]
     },
     "execution_count": 8,
     "metadata": {},
     "output_type": "execute_result"
    }
   ],
   "source": [
    "horizon"
   ]
  },
  {
   "cell_type": "code",
   "execution_count": 9,
   "metadata": {},
   "outputs": [],
   "source": [
    "import collections\n",
    "\n",
    "# Named tuple to store information about created variables.\n",
    "task_type = collections.namedtuple('task_type', 'start end interval')\n",
    "\n",
    "#Named tuple to manipulate solution information.\n",
    "assigned_task_type = collections.namedtuple('assigned_task_type', 'start job index duration')\n"
   ]
  },
  {
   "cell_type": "code",
   "execution_count": 10,
   "metadata": {},
   "outputs": [
    {
     "data": {
      "text/plain": [
       "__main__.task_type"
      ]
     },
     "execution_count": 10,
     "metadata": {},
     "output_type": "execute_result"
    }
   ],
   "source": [
    "task_type"
   ]
  },
  {
   "cell_type": "code",
   "execution_count": 11,
   "metadata": {},
   "outputs": [],
   "source": [
    "# Creates job intervals and add to the corresponding machine lists.\n",
    "\n",
    "all_tasks = {}\n",
    "machine_to_intervals = collections.defaultdict(list)"
   ]
  },
  {
   "cell_type": "code",
   "execution_count": 12,
   "metadata": {},
   "outputs": [],
   "source": [
    "for job_id, job in enumerate(jobs_data):\n",
    "    for task_id, task in enumerate(job):\n",
    "        machine = task[0]\n",
    "        duration = task[1]\n",
    "        suffix = '_%i_%i' % (job_id, task_id)\n",
    "        start_var = model.NewIntVar(0, horizon, 'Start' + suffix)\n",
    "        end_var = model.NewIntVar(0, horizon, 'end' + suffix)\n",
    "        interval_var = model.NewIntervalVar(start_var, duration, end_var, 'interval' + suffix)\n",
    "        all_tasks[job_id, task_id] = task_type( \n",
    "                                        start = start_var, end = end_var, interval = interval_var)\n",
    "        machine_to_intervals[machine].append(interval_var)\n",
    "       "
   ]
  },
  {
   "cell_type": "code",
   "execution_count": 13,
   "metadata": {},
   "outputs": [],
   "source": [
    "# Define the constraints\n",
    "# Create and add disjunctive constraints.\n",
    "for machine in all_machines:\n",
    "    model.AddNoOverlap(machine_to_intervals[machine])\n",
    "    \n",
    "# Precedences inside a job\n",
    "for job_id, job in enumerate(jobs_data):\n",
    "    for task_id in range(len(job) - 1):\n",
    "        model.Add(all_tasks[job_id, task_id + 1].start >= all_tasks[job_id, task_id].end)"
   ]
  },
  {
   "cell_type": "code",
   "execution_count": 14,
   "metadata": {},
   "outputs": [],
   "source": [
    "# Define an objective\n",
    "# Makespan objective\n",
    "\n",
    "obj_var = model.NewIntVar(0, horizon, 'makespan')\n",
    "model.AddMaxEquality(obj_var, [ all_tasks[job_id, len(job) - 1].end\n",
    "                              for job_id, job in enumerate(jobs_data)\n",
    "                              ])\n",
    "model.Minimize(obj_var)\n"
   ]
  },
  {
   "cell_type": "code",
   "execution_count": 15,
   "metadata": {},
   "outputs": [],
   "source": [
    "# Declares the solver\n",
    "# Solve model.\n",
    "\n",
    "solver = cp_model.CpSolver()\n",
    "status = solver.Solve(model)"
   ]
  },
  {
   "cell_type": "code",
   "execution_count": 16,
   "metadata": {},
   "outputs": [],
   "source": [
    "# Display the results\n",
    "\n",
    "# Create one list of assigned tasks per machine.\n",
    "assigned_jobs = collections.defaultdict(list)\n",
    "for job_id, job in enumerate(jobs_data):\n",
    "    for task_id, task in enumerate(job):\n",
    "        machine = task[0]\n",
    "        assigned_jobs[machine].append(\n",
    "            assigned_task_type(\n",
    "                start = solver.Value(all_tasks[job_id, task_id].start),\n",
    "                job = job_id,\n",
    "                index = task_id,\n",
    "                duration = task[1]))"
   ]
  },
  {
   "cell_type": "code",
   "execution_count": 17,
   "metadata": {},
   "outputs": [
    {
     "name": "stdout",
     "output_type": "stream",
     "text": [
      "Optimal Schedule Length: 11\n",
      "Machine00: job_0_0   job_1_0   \n",
      "                 [0, 3]    [3, 5]    \n",
      "Machine11: job_2_0   job_0_1   job_1_2   \n",
      "                 [0, 4]    [4, 6]    [7, 11]   \n",
      "Machine22: job_1_1   job_0_2   job_2_1   \n",
      "                 [5, 6]    [6, 8]    [8, 11]   \n",
      "\n"
     ]
    }
   ],
   "source": [
    "# Create per machine output lines.\n",
    "\n",
    "output = ''\n",
    "for machine in all_machines:\n",
    "    # Sort by starting time.\n",
    "    assigned_jobs[machine].sort()\n",
    "    sol_line_tasks = 'Machine' + str(machine) + str(machine) + ': '\n",
    "    sol_line = '                 ' \n",
    "    \n",
    "    for assigned_task in assigned_jobs[machine]:\n",
    "        name = 'job_%i_%i' % (assigned_task.job, assigned_task.index)\n",
    "        # Add spaces to output to align columns.\n",
    "        sol_line_tasks += '%-10s' % name\n",
    "        \n",
    "        start = assigned_task.start\n",
    "        duration = assigned_task.duration\n",
    "        sol_tmp = '[%i, %i]' % (start, start + duration)\n",
    "        # Add spaces to output to align columns\n",
    "        sol_line += '%-10s' % sol_tmp\n",
    "        \n",
    "    sol_line += '\\n'\n",
    "    sol_line_tasks += '\\n'\n",
    "    output += sol_line_tasks\n",
    "    output += sol_line\n",
    "    \n",
    "# Finally print the solution found\n",
    "\n",
    "print('Optimal Schedule Length: %i' % solver.ObjectiveValue())\n",
    "print(output)"
   ]
  },
  {
   "cell_type": "code",
   "execution_count": null,
   "metadata": {},
   "outputs": [],
   "source": []
  },
  {
   "cell_type": "markdown",
   "metadata": {},
   "source": [
    "### Complete Program"
   ]
  },
  {
   "cell_type": "code",
   "execution_count": 18,
   "metadata": {},
   "outputs": [
    {
     "name": "stdout",
     "output_type": "stream",
     "text": [
      "Optimal Schedule Length: 11\n",
      "Machine 0: job_0_0   job_1_0   \n",
      "           [0,3]     [3,5]     \n",
      "Machine 1: job_2_0   job_0_1   job_1_2   \n",
      "           [0,4]     [4,6]     [7,11]    \n",
      "Machine 2: job_1_1   job_0_2   job_2_1   \n",
      "           [5,6]     [6,8]     [8,11]    \n",
      "\n"
     ]
    }
   ],
   "source": [
    "from __future__ import print_function\n",
    "\n",
    "import collections\n",
    "\n",
    "# Import Python wrapper for or-tools CP-SAT solver.\n",
    "from ortools.sat.python import cp_model\n",
    "\n",
    "\n",
    "def MinimalJobshopSat():\n",
    "    \"\"\"Minimal jobshop problem.\"\"\"\n",
    "    # Create the model.\n",
    "    model = cp_model.CpModel()\n",
    "\n",
    "    jobs_data = [  # task = (machine_id, processing_time).\n",
    "        [(0, 3), (1, 2), (2, 2)],  # Job0\n",
    "        [(0, 2), (2, 1), (1, 4)],  # Job1\n",
    "        [(1, 4), (2, 3)]  # Job2\n",
    "    ]\n",
    "\n",
    "    machines_count = 1 + max(task[0] for job in jobs_data for task in job)\n",
    "    all_machines = range(machines_count)\n",
    "\n",
    "    # Computes horizon dynamically as the sum of all durations.\n",
    "    horizon = sum(task[1] for job in jobs_data for task in job)\n",
    "\n",
    "    # Named tuple to store information about created variables.\n",
    "    task_type = collections.namedtuple('task_type', 'start end interval')\n",
    "    # Named tuple to manipulate solution information.\n",
    "    assigned_task_type = collections.namedtuple('assigned_task_type',\n",
    "                                                'start job index duration')\n",
    "\n",
    "    # Creates job intervals and add to the corresponding machine lists.\n",
    "    all_tasks = {}\n",
    "    machine_to_intervals = collections.defaultdict(list)\n",
    "\n",
    "    for job_id, job in enumerate(jobs_data):\n",
    "        for task_id, task in enumerate(job):\n",
    "            machine = task[0]\n",
    "            duration = task[1]\n",
    "            suffix = '_%i_%i' % (job_id, task_id)\n",
    "            start_var = model.NewIntVar(0, horizon, 'start' + suffix)\n",
    "            end_var = model.NewIntVar(0, horizon, 'end' + suffix)\n",
    "            interval_var = model.NewIntervalVar(start_var, duration, end_var,\n",
    "                                                'interval' + suffix)\n",
    "            all_tasks[job_id, task_id] = task_type(\n",
    "                start=start_var, end=end_var, interval=interval_var)\n",
    "            machine_to_intervals[machine].append(interval_var)\n",
    "\n",
    "    # Create and add disjunctive constraints.\n",
    "    for machine in all_machines:\n",
    "        model.AddNoOverlap(machine_to_intervals[machine])\n",
    "\n",
    "    # Precedences inside a job.\n",
    "    for job_id, job in enumerate(jobs_data):\n",
    "        for task_id in range(len(job) - 1):\n",
    "            model.Add(all_tasks[job_id, task_id +\n",
    "                                1].start >= all_tasks[job_id, task_id].end)\n",
    "\n",
    "    # Makespan objective.\n",
    "    obj_var = model.NewIntVar(0, horizon, 'makespan')\n",
    "    model.AddMaxEquality(obj_var, [\n",
    "        all_tasks[job_id, len(job) - 1].end\n",
    "        for job_id, job in enumerate(jobs_data)\n",
    "    ])\n",
    "    model.Minimize(obj_var)\n",
    "\n",
    "    # Solve model.\n",
    "    solver = cp_model.CpSolver()\n",
    "    status = solver.Solve(model)\n",
    "\n",
    "    if status == cp_model.OPTIMAL:\n",
    "        # Create one list of assigned tasks per machine.\n",
    "        assigned_jobs = collections.defaultdict(list)\n",
    "        for job_id, job in enumerate(jobs_data):\n",
    "            for task_id, task in enumerate(job):\n",
    "                machine = task[0]\n",
    "                assigned_jobs[machine].append(\n",
    "                    assigned_task_type(\n",
    "                        start=solver.Value(all_tasks[job_id, task_id].start),\n",
    "                        job=job_id,\n",
    "                        index=task_id,\n",
    "                        duration=task[1]))\n",
    "\n",
    "        # Create per machine output lines.\n",
    "        output = ''\n",
    "        for machine in all_machines:\n",
    "            # Sort by starting time.\n",
    "            assigned_jobs[machine].sort()\n",
    "            sol_line_tasks = 'Machine ' + str(machine) + ': '\n",
    "            sol_line = '           '\n",
    "\n",
    "            for assigned_task in assigned_jobs[machine]:\n",
    "                name = 'job_%i_%i' % (assigned_task.job, assigned_task.index)\n",
    "                # Add spaces to output to align columns.\n",
    "                sol_line_tasks += '%-10s' % name\n",
    "\n",
    "                start = assigned_task.start\n",
    "                duration = assigned_task.duration\n",
    "                sol_tmp = '[%i,%i]' % (start, start + duration)\n",
    "                # Add spaces to output to align columns.\n",
    "                sol_line += '%-10s' % sol_tmp\n",
    "\n",
    "            sol_line += '\\n'\n",
    "            sol_line_tasks += '\\n'\n",
    "            output += sol_line_tasks\n",
    "            output += sol_line\n",
    "\n",
    "        # Finally print the solution found.\n",
    "        print('Optimal Schedule Length: %i' % solver.ObjectiveValue())\n",
    "        print(output)\n",
    "        \n",
    "        \n",
    "MinimalJobshopSat()"
   ]
  },
  {
   "cell_type": "code",
   "execution_count": null,
   "metadata": {},
   "outputs": [],
   "source": []
  }
 ],
 "metadata": {
  "kernelspec": {
   "display_name": "Python 3",
   "language": "python",
   "name": "python3"
  },
  "language_info": {
   "codemirror_mode": {
    "name": "ipython",
    "version": 3
   },
   "file_extension": ".py",
   "mimetype": "text/x-python",
   "name": "python",
   "nbconvert_exporter": "python",
   "pygments_lexer": "ipython3",
   "version": "3.8.3"
  }
 },
 "nbformat": 4,
 "nbformat_minor": 4
}
