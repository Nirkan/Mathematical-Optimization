{
 "cells": [
  {
   "cell_type": "markdown",
   "metadata": {},
   "source": [
    "### Bin Packing Problem"
   ]
  },
  {
   "cell_type": "code",
   "execution_count": 1,
   "metadata": {},
   "outputs": [],
   "source": [
    "from __future__ import print_function\n",
    "from ortools.linear_solver import pywraplp"
   ]
  },
  {
   "cell_type": "code",
   "execution_count": 2,
   "metadata": {},
   "outputs": [],
   "source": [
    "def create_data_model():\n",
    "    \"\"\"Create the data for the example.\"\"\"\n",
    "    data = {}\n",
    "    weights = [48, 30, 19, 36, 36, 27, 42, 42, 36, 24, 30]\n",
    "    data['weights'] = weights\n",
    "    data['items'] = list(range(len(weights)))\n",
    "    data['bins'] = data['items']\n",
    "    data['bin_capacity'] = 100\n",
    "    return data"
   ]
  },
  {
   "cell_type": "code",
   "execution_count": 9,
   "metadata": {},
   "outputs": [
    {
     "name": "stdout",
     "output_type": "stream",
     "text": [
      "Bin number 0\n",
      " Items packed: [1, 5, 10]\n",
      " Total weight: 87\n",
      "\n",
      "Bin number 1\n",
      " Items packed: [0, 6]\n",
      " Total weight: 90\n",
      "\n",
      "Bin number 2\n",
      " Items packed: [2, 4, 7]\n",
      " Total weight: 97\n",
      "\n",
      "Bin number 3\n",
      " Items packed: [3, 8, 9]\n",
      " Total weight: 96\n",
      "\n",
      "\n",
      "Number of bins used: 4\n",
      "Time =  82  milliseconds\n"
     ]
    }
   ],
   "source": [
    "def main():\n",
    "    data = create_data_model()\n",
    "    \n",
    "    # Create the mip solver with the CBC backend.\n",
    "    solver = pywraplp.Solver.CreateSolver('bin_packing_mip', 'CBC')\n",
    "    \n",
    "    # Variables\n",
    "    # x[i, j] = 1 if item i is packed in bin j. \n",
    "    \n",
    "    x = {}\n",
    "    for i in data['items']:\n",
    "        for j in data['bins']:\n",
    "            x[(i, j)] = solver.IntVar(0, 1, 'x_%i_%i' % (i, j))\n",
    "            \n",
    "    # y[j] = 1 if bin j is used.\n",
    "    \n",
    "    y = {}\n",
    "    for j in data['bins']:\n",
    "        y[j] = solver.IntVar(0, 1, 'y[%i]' % j)\n",
    "        \n",
    "        \n",
    "    # Constraints\n",
    "    # Each item must be in exactly one bin.\n",
    "    \n",
    "    for i in data['items']:\n",
    "        solver.Add(sum(x[i, j] for j in data['bins']) == 1)\n",
    "        \n",
    "    # The amount packed in each bin cannot exceed its capacity.\n",
    "    \n",
    "    for j in data['bins']:\n",
    "        solver.Add(\n",
    "        sum(x[(i, j)] * data['weights'][i] for i in data['items']) \n",
    "            <= y[j] * data['bin_capacity'])\n",
    "        \n",
    "    \n",
    "    # Objective: minimize the number of bins used.\n",
    "    solver.Minimize(solver.Sum(y[j] for j in data['bins']))\n",
    "    \n",
    "    status = solver.Solve()\n",
    "    \n",
    "    if status == pywraplp.Solver.OPTIMAL:\n",
    "        num_bins = 0\n",
    "        for j in data['bins']:\n",
    "            if y[j].solution_value() == 1:\n",
    "                bin_items = []\n",
    "                bin_weight = 0\n",
    "                for i in data['items']:\n",
    "                    if x[i, j].solution_value() > 0:\n",
    "                        bin_items.append(i)\n",
    "                        bin_weight += data['weights'][i]\n",
    "                if bin_weight > 0:\n",
    "                    num_bins += 1\n",
    "                    print('Bin number', j)\n",
    "                    print(' Items packed:', bin_items)\n",
    "                    print(' Total weight:', bin_weight)\n",
    "                    print()\n",
    "                    \n",
    "        print()\n",
    "        print('Number of bins used:', num_bins)\n",
    "        print('Time = ', solver.WallTime(), ' milliseconds')\n",
    "    else:\n",
    "        print('The problem does not have an optimal solution.')\n",
    "        \n",
    "        \n",
    "if __name__ == '__main__':\n",
    "    main()"
   ]
  }
 ],
 "metadata": {
  "kernelspec": {
   "display_name": "Python 3",
   "language": "python",
   "name": "python3"
  },
  "language_info": {
   "codemirror_mode": {
    "name": "ipython",
    "version": 3
   },
   "file_extension": ".py",
   "mimetype": "text/x-python",
   "name": "python",
   "nbconvert_exporter": "python",
   "pygments_lexer": "ipython3",
   "version": "3.8.3"
  }
 },
 "nbformat": 4,
 "nbformat_minor": 4
}
