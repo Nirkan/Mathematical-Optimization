{
 "cells": [
  {
   "cell_type": "markdown",
   "metadata": {},
   "source": [
    "### The Transport Problem"
   ]
  },
  {
   "cell_type": "code",
   "execution_count": 1,
   "metadata": {},
   "outputs": [],
   "source": [
    "# Import the pyomo module\n",
    "from pyomo.environ import *\n",
    "\n",
    "# Creation of a Concrete Model\n",
    "model = ConcreteModel()"
   ]
  },
  {
   "cell_type": "code",
   "execution_count": 2,
   "metadata": {},
   "outputs": [],
   "source": [
    "# Define sets #\n",
    "\n",
    "model.i = Set(initialize = ['seattle', 'san-diego'], doc = 'Canning plans')\n",
    "model.j = Set(initialize = ['new-york', 'chicago', 'topeka'], doc = 'Markets')"
   ]
  },
  {
   "cell_type": "code",
   "execution_count": 3,
   "metadata": {},
   "outputs": [],
   "source": [
    "# Define Parameters #\n",
    "\n",
    "model.a  = Param(model.i, initialize = {'seattle':350, 'san-diego':600}, doc = 'Capacity of plant i in cases')\n",
    "model.b  = Param(model.j, initialize = {'new-york':325, 'chicago':300, 'topeka':275}, doc = 'Demand in market j in cases')\n",
    "\n",
    "dtab = {\n",
    "    ('seattle', 'new-york'): 2.5,\n",
    "    ('seattle', 'chicago'): 1.7,\n",
    "    ('seattle', 'topeka'): 1.8,\n",
    "    ('san-diego', 'new-york'): 2.5,\n",
    "    ('san-diego', 'chicago') : 1.8,\n",
    "    ('san-diego', 'topeka') : 1.4,\n",
    "}\n",
    "\n",
    "model.d = Param(model.i, model.j, initialize = dtab, doc = 'Distance in thousands of miles')\n",
    "\n",
    "# Scalar f freight in dollars per case per thousand miles /90/ ;\n",
    "model.f = Param(initialize = 90, doc = 'Freight in dollars per case per thousand miles')"
   ]
  },
  {
   "cell_type": "code",
   "execution_count": 4,
   "metadata": {},
   "outputs": [],
   "source": [
    "# Parameter c(i, j) tranport cost in thousand of dollars per case ;\n",
    "\n",
    "def c_init(model, i, j):\n",
    "    return model.f * model.d[i, j] / 1000\n",
    "\n",
    "model.c = Param(model.i, model.j, initialize = c_init, doc = 'Transport cost in thousands of dollars per case')"
   ]
  },
  {
   "cell_type": "markdown",
   "metadata": {},
   "source": [
    "### Variables"
   ]
  },
  {
   "cell_type": "code",
   "execution_count": 5,
   "metadata": {},
   "outputs": [],
   "source": [
    "## Define variables\n",
    "\n",
    "model.x = Var(model.i, model.j, bounds = (0.0, None), doc = 'Shipment quantities in case')"
   ]
  },
  {
   "cell_type": "markdown",
   "metadata": {},
   "source": [
    "### Constraints"
   ]
  },
  {
   "cell_type": "code",
   "execution_count": 6,
   "metadata": {},
   "outputs": [],
   "source": [
    "## Define constrains \n",
    "\n",
    "def supply_rule(model, i):\n",
    "    return sum(model.x[i, j] for j in model.j) <= model.a[i]\n",
    "model.supply = Constraint(model.i, rule = supply_rule, doc = 'Observe supply limit at plant i')\n",
    "\n",
    "def demand_rule(model, j):\n",
    "    return sum(model.x[i, j] for i in model.i)  >= model.b[j]\n",
    "model.demand = Constraint(model.j, rule = demand_rule, doc = 'Satisfy demand at market j')"
   ]
  },
  {
   "cell_type": "markdown",
   "metadata": {},
   "source": [
    "### Objective and Solving"
   ]
  },
  {
   "cell_type": "code",
   "execution_count": 7,
   "metadata": {},
   "outputs": [],
   "source": [
    "## Define objective and solve ##\n",
    "\n",
    "def objective_rule(model):\n",
    "    return sum(model.c[i, j]*model.x[i, j] for i in model.i for j in model.j)\n",
    "\n",
    "model.objective = Objective(rule = objective_rule, sense = minimize, doc = 'Define objective function')"
   ]
  },
  {
   "cell_type": "markdown",
   "metadata": {},
   "source": [
    "### Retrieving the Output"
   ]
  },
  {
   "cell_type": "code",
   "execution_count": 8,
   "metadata": {},
   "outputs": [],
   "source": [
    "## Display the output\n",
    "\n",
    "def pyomo_postprocess(options = None, instance = None, results = None):\n",
    "    model.x.display()"
   ]
  },
  {
   "cell_type": "code",
   "execution_count": 9,
   "metadata": {},
   "outputs": [
    {
     "name": "stdout",
     "output_type": "stream",
     "text": [
      "5 Set Declarations\n",
      "    c_index : Size=1, Index=None, Ordered=True\n",
      "        Key  : Dimen : Domain : Size : Members\n",
      "        None :     2 :    i*j :    6 : {('seattle', 'new-york'), ('seattle', 'chicago'), ('seattle', 'topeka'), ('san-diego', 'new-york'), ('san-diego', 'chicago'), ('san-diego', 'topeka')}\n",
      "    d_index : Size=1, Index=None, Ordered=True\n",
      "        Key  : Dimen : Domain : Size : Members\n",
      "        None :     2 :    i*j :    6 : {('seattle', 'new-york'), ('seattle', 'chicago'), ('seattle', 'topeka'), ('san-diego', 'new-york'), ('san-diego', 'chicago'), ('san-diego', 'topeka')}\n",
      "    i : Canning plans\n",
      "        Size=1, Index=None, Ordered=Insertion\n",
      "        Key  : Dimen : Domain : Size : Members\n",
      "        None :     1 :    Any :    2 : {'seattle', 'san-diego'}\n",
      "    j : Markets\n",
      "        Size=1, Index=None, Ordered=Insertion\n",
      "        Key  : Dimen : Domain : Size : Members\n",
      "        None :     1 :    Any :    3 : {'new-york', 'chicago', 'topeka'}\n",
      "    x_index : Size=1, Index=None, Ordered=True\n",
      "        Key  : Dimen : Domain : Size : Members\n",
      "        None :     2 :    i*j :    6 : {('seattle', 'new-york'), ('seattle', 'chicago'), ('seattle', 'topeka'), ('san-diego', 'new-york'), ('san-diego', 'chicago'), ('san-diego', 'topeka')}\n",
      "\n",
      "5 Param Declarations\n",
      "    a : Capacity of plant i in cases\n",
      "        Size=2, Index=i, Domain=Any, Default=None, Mutable=False\n",
      "        Key       : Value\n",
      "        san-diego :   600\n",
      "          seattle :   350\n",
      "    b : Demand in market j in cases\n",
      "        Size=3, Index=j, Domain=Any, Default=None, Mutable=False\n",
      "        Key      : Value\n",
      "         chicago :   300\n",
      "        new-york :   325\n",
      "          topeka :   275\n",
      "    c : Transport cost in thousands of dollars per case\n",
      "        Size=6, Index=c_index, Domain=Any, Default=None, Mutable=False\n",
      "        Key                       : Value\n",
      "         ('san-diego', 'chicago') :               0.162\n",
      "        ('san-diego', 'new-york') :               0.225\n",
      "          ('san-diego', 'topeka') : 0.12599999999999997\n",
      "           ('seattle', 'chicago') :               0.153\n",
      "          ('seattle', 'new-york') :               0.225\n",
      "            ('seattle', 'topeka') :               0.162\n",
      "    d : Distance in thousands of miles\n",
      "        Size=6, Index=d_index, Domain=Any, Default=None, Mutable=False\n",
      "        Key                       : Value\n",
      "         ('san-diego', 'chicago') :   1.8\n",
      "        ('san-diego', 'new-york') :   2.5\n",
      "          ('san-diego', 'topeka') :   1.4\n",
      "           ('seattle', 'chicago') :   1.7\n",
      "          ('seattle', 'new-york') :   2.5\n",
      "            ('seattle', 'topeka') :   1.8\n",
      "    f : Freight in dollars per case per thousand miles\n",
      "        Size=1, Index=None, Domain=Any, Default=None, Mutable=False\n",
      "        Key  : Value\n",
      "        None :    90\n",
      "\n",
      "1 Var Declarations\n",
      "    x : Shipment quantities in case\n",
      "        Size=6, Index=x_index\n",
      "        Key                       : Lower : Value : Upper : Fixed : Stale : Domain\n",
      "         ('san-diego', 'chicago') :   0.0 :  None :  None : False :  True :  Reals\n",
      "        ('san-diego', 'new-york') :   0.0 :  None :  None : False :  True :  Reals\n",
      "          ('san-diego', 'topeka') :   0.0 :  None :  None : False :  True :  Reals\n",
      "           ('seattle', 'chicago') :   0.0 :  None :  None : False :  True :  Reals\n",
      "          ('seattle', 'new-york') :   0.0 :  None :  None : False :  True :  Reals\n",
      "            ('seattle', 'topeka') :   0.0 :  None :  None : False :  True :  Reals\n",
      "\n",
      "1 Objective Declarations\n",
      "    objective : Define objective function\n",
      "        Size=1, Index=None, Active=True\n",
      "        Key  : Active : Sense    : Expression\n",
      "        None :   True : minimize : 0.225*x[seattle,new-york] + 0.153*x[seattle,chicago] + 0.162*x[seattle,topeka] + 0.225*x[san-diego,new-york] + 0.162*x[san-diego,chicago] + 0.12599999999999997*x[san-diego,topeka]\n",
      "\n",
      "2 Constraint Declarations\n",
      "    demand : Satisfy demand at market j\n",
      "        Size=3, Index=j, Active=True\n",
      "        Key      : Lower : Body                                        : Upper : Active\n",
      "         chicago : 300.0 :   x[seattle,chicago] + x[san-diego,chicago] :  +Inf :   True\n",
      "        new-york : 325.0 : x[seattle,new-york] + x[san-diego,new-york] :  +Inf :   True\n",
      "          topeka : 275.0 :     x[seattle,topeka] + x[san-diego,topeka] :  +Inf :   True\n",
      "    supply : Observe supply limit at plant i\n",
      "        Size=2, Index=i, Active=True\n",
      "        Key       : Lower : Body                                                               : Upper : Active\n",
      "        san-diego :  -Inf : x[san-diego,new-york] + x[san-diego,chicago] + x[san-diego,topeka] : 600.0 :   True\n",
      "          seattle :  -Inf :       x[seattle,new-york] + x[seattle,chicago] + x[seattle,topeka] : 350.0 :   True\n",
      "\n",
      "14 Declarations: i j a b d_index d f c_index c x_index x supply demand objective\n"
     ]
    }
   ],
   "source": [
    "model.pprint()"
   ]
  },
  {
   "cell_type": "markdown",
   "metadata": {},
   "source": [
    "### Editing and running script"
   ]
  },
  {
   "cell_type": "code",
   "execution_count": 10,
   "metadata": {},
   "outputs": [
    {
     "name": "stdout",
     "output_type": "stream",
     "text": [
      "# ==========================================================\n",
      "# = Solver Results                                         =\n",
      "# ==========================================================\n",
      "# ----------------------------------------------------------\n",
      "#   Problem Information\n",
      "# ----------------------------------------------------------\n",
      "Problem: \n",
      "- Name: unknown\n",
      "  Lower bound: 153.675\n",
      "  Upper bound: 153.675\n",
      "  Number of objectives: 1\n",
      "  Number of constraints: 6\n",
      "  Number of variables: 7\n",
      "  Number of nonzeros: 13\n",
      "  Sense: minimize\n",
      "# ----------------------------------------------------------\n",
      "#   Solver Information\n",
      "# ----------------------------------------------------------\n",
      "Solver: \n",
      "- Status: ok\n",
      "  Termination condition: optimal\n",
      "  Statistics: \n",
      "    Branch and bound: \n",
      "      Number of bounded subproblems: 0\n",
      "      Number of created subproblems: 0\n",
      "  Error rc: 0\n",
      "  Time: 0.02897024154663086\n",
      "# ----------------------------------------------------------\n",
      "#   Solution Information\n",
      "# ----------------------------------------------------------\n",
      "Solution: \n",
      "- number of solutions: 0\n",
      "  number of solutions displayed: 0\n",
      "\n",
      "Displaying Solution\n",
      "------------------------------------------------------------\n",
      "x : Shipment quantities in case\n",
      "    Size=6, Index=x_index\n",
      "    Key                       : Lower : Value : Upper : Fixed : Stale : Domain\n",
      "     ('san-diego', 'chicago') :   0.0 :   0.0 :  None : False : False :  Reals\n",
      "    ('san-diego', 'new-york') :   0.0 : 325.0 :  None : False : False :  Reals\n",
      "      ('san-diego', 'topeka') :   0.0 : 275.0 :  None : False : False :  Reals\n",
      "       ('seattle', 'chicago') :   0.0 : 300.0 :  None : False : False :  Reals\n",
      "      ('seattle', 'new-york') :   0.0 :   0.0 :  None : False : False :  Reals\n",
      "        ('seattle', 'topeka') :   0.0 :   0.0 :  None : False : False :  Reals\n"
     ]
    }
   ],
   "source": [
    "## This is optional code path that allows the script to run outside of the pyomo command-line.\n",
    "\n",
    "if __name__ == '__main__':\n",
    "    # This emulates what the pyomo command-line tools does \n",
    "    \n",
    "    from pyomo.opt import SolverFactory\n",
    "    import pyomo.environ\n",
    "    opt = SolverFactory('glpk')\n",
    "    results = opt.solve(model)\n",
    "    # sends results to stdout\n",
    "    results.write()\n",
    "    print('\\nDisplaying Solution\\n' + '-'*60)\n",
    "    pyomo_postprocess(None, model, results)"
   ]
  }
 ],
 "metadata": {
  "kernelspec": {
   "display_name": "Python 3",
   "language": "python",
   "name": "python3"
  },
  "language_info": {
   "codemirror_mode": {
    "name": "ipython",
    "version": 3
   },
   "file_extension": ".py",
   "mimetype": "text/x-python",
   "name": "python",
   "nbconvert_exporter": "python",
   "pygments_lexer": "ipython3",
   "version": "3.8.3"
  }
 },
 "nbformat": 4,
 "nbformat_minor": 4
}
